{
 "cells": [
  {
   "cell_type": "code",
   "execution_count": null,
   "metadata": {
    "ExecuteTime": {
     "end_time": "2017-09-15T04:57:31.666982Z",
     "start_time": "2017-09-15T04:57:30.298442Z"
    },
    "collapsed": true
   },
   "outputs": [],
   "source": [
    "from sklearn.decomposition import NMF\n",
    "from sklearn.feature_extraction.text import TfidfTransformer\n",
    "from sklearn.preprocessing import normalize\n",
    "from scipy.sparse import dok_matrix\n",
    "from stop_words import get_stop_words\n",
    "import numpy as np\n",
    "import json"
   ]
  },
  {
   "cell_type": "code",
   "execution_count": null,
   "metadata": {
    "ExecuteTime": {
     "end_time": "2017-09-15T04:57:31.800778Z",
     "start_time": "2017-09-15T04:57:31.680989Z"
    },
    "collapsed": true
   },
   "outputs": [],
   "source": [
    "with open(\"twit_new.json\", \"r\") as f:\n",
    "    data = json.load(f)"
   ]
  },
  {
   "cell_type": "code",
   "execution_count": null,
   "metadata": {
    "ExecuteTime": {
     "end_time": "2017-09-15T04:57:32.224804Z",
     "start_time": "2017-09-15T04:57:32.035517Z"
    },
    "collapsed": true
   },
   "outputs": [],
   "source": [
    "twitTexts = set()\n",
    "voca = set()\n",
    "for twit in data:\n",
    "    body = twit['body']\n",
    "    # 단어가 3개 이상인 트윗만 취급\n",
    "    body = body.split()\n",
    "    if len(body) > 3:\n",
    "        voca.update(body)\n",
    "        body = \" \".join(body)\n",
    "        twitTexts.add(body)\n",
    "\n",
    "del data\n",
    "twitTexts = list(twitTexts)"
   ]
  },
  {
   "cell_type": "code",
   "execution_count": null,
   "metadata": {
    "ExecuteTime": {
     "end_time": "2017-09-15T04:57:32.316621Z",
     "start_time": "2017-09-15T04:57:32.291899Z"
    },
    "collapsed": true
   },
   "outputs": [],
   "source": [
    "# stopwords 제거\n",
    "stopwords = set(get_stop_words('en'))\n",
    "stopwords.update(['via', 'will', 'just'])\n",
    "voca = {v for v in voca if len(v) > 2}  # 단어길이가 3 이상인 경우만 취급\n",
    "voca = list(voca - stopwords)\n",
    "voca_id = {w: i for i, w in enumerate(voca)}  # 단어 인덱싱"
   ]
  },
  {
   "cell_type": "code",
   "execution_count": null,
   "metadata": {
    "ExecuteTime": {
     "end_time": "2017-09-15T04:57:32.638209Z",
     "start_time": "2017-09-15T04:57:32.631788Z"
    }
   },
   "outputs": [],
   "source": [
    "# term-document matrix를 sparse matrix로 생성\n",
    "tdm = dok_matrix((len(twitTexts), len(voca)), dtype=np.float32)\n",
    "print(tdm.shape)"
   ]
  },
  {
   "cell_type": "code",
   "execution_count": null,
   "metadata": {
    "ExecuteTime": {
     "end_time": "2017-09-15T04:57:38.174093Z",
     "start_time": "2017-09-15T04:57:33.270862Z"
    },
    "collapsed": true
   },
   "outputs": [],
   "source": [
    "# term-document matrix\n",
    "for i, twit in enumerate(twitTexts):\n",
    "    for word in twit.split():\n",
    "        try:\n",
    "            tdm[i, voca_id[word]] += 1\n",
    "        except:\n",
    "            # stopwords\n",
    "            continue"
   ]
  },
  {
   "cell_type": "code",
   "execution_count": null,
   "metadata": {
    "ExecuteTime": {
     "end_time": "2017-09-15T04:57:38.461942Z",
     "start_time": "2017-09-15T04:57:38.367343Z"
    },
    "collapsed": true
   },
   "outputs": [],
   "source": [
    "# 각 document별로 l2-normalize\n",
    "tdm_ = normalize(tdm)"
   ]
  },
  {
   "cell_type": "code",
   "execution_count": null,
   "metadata": {
    "ExecuteTime": {
     "end_time": "2017-09-15T04:57:40.953221Z",
     "start_time": "2017-09-15T04:57:38.672034Z"
    },
    "collapsed": true
   },
   "outputs": [],
   "source": [
    "# NMF\n",
    "K = 10\n",
    "nmf = NMF(n_components=K, init='nndsvd')\n",
    "W = nmf.fit_transform(tdm_)\n",
    "H = nmf.components_"
   ]
  },
  {
   "cell_type": "code",
   "execution_count": null,
   "metadata": {
    "ExecuteTime": {
     "end_time": "2017-09-15T04:57:41.316704Z",
     "start_time": "2017-09-15T04:57:41.266088Z"
    }
   },
   "outputs": [],
   "source": [
    "# 각 토픽별 키워드 출력\n",
    "for k in range(K):\n",
    "    print(f\"{k}th topic\")\n",
    "    for index in H[k].argsort()[::-1][:20]:\n",
    "        print(voca[index], end=\" \")\n",
    "    print(\"\\n\")"
   ]
  },
  {
   "cell_type": "code",
   "execution_count": null,
   "metadata": {
    "ExecuteTime": {
     "end_time": "2017-09-15T04:57:41.639034Z",
     "start_time": "2017-09-15T04:57:41.524374Z"
    },
    "collapsed": true
   },
   "outputs": [],
   "source": [
    "# tfidf를 통한 nmf\n",
    "tfidf = TfidfTransformer()\n",
    "tdm_ = tfidf.fit_transform(tdm)"
   ]
  },
  {
   "cell_type": "code",
   "execution_count": null,
   "metadata": {
    "ExecuteTime": {
     "end_time": "2017-09-15T04:57:43.904110Z",
     "start_time": "2017-09-15T04:57:41.814605Z"
    },
    "collapsed": true
   },
   "outputs": [],
   "source": [
    "K = 10\n",
    "nmf = NMF(n_components=K, init='nndsvd')\n",
    "W = nmf.fit_transform(tdm_)\n",
    "H = nmf.components_"
   ]
  },
  {
   "cell_type": "code",
   "execution_count": null,
   "metadata": {
    "ExecuteTime": {
     "end_time": "2017-09-15T04:57:44.109397Z",
     "start_time": "2017-09-15T04:57:44.068464Z"
    },
    "scrolled": true
   },
   "outputs": [],
   "source": [
    "for k in range(K):\n",
    "    print(f\"{k}th topic\")\n",
    "    for index in H[k].argsort()[::-1][:20]:\n",
    "        print(voca[index], end=\" \")\n",
    "    print(\"\\n\")"
   ]
  },
  {
   "cell_type": "code",
   "execution_count": null,
   "metadata": {
    "ExecuteTime": {
     "end_time": "2017-09-15T04:57:54.216627Z",
     "start_time": "2017-09-15T04:57:54.193498Z"
    },
    "scrolled": true
   },
   "outputs": [],
   "source": [
    "W_ = W.T\n",
    "for k in range(K):\n",
    "    print(f\"{k}th topic\")\n",
    "    for index in W_[k].argsort()[::-1][:5]:\n",
    "        print(twitTexts[index])\n",
    "    print()"
   ]
  },
  {
   "cell_type": "code",
   "execution_count": null,
   "metadata": {
    "ExecuteTime": {
     "end_time": "2017-09-15T06:16:55.013437Z",
     "start_time": "2017-09-15T06:15:30.575676Z"
    }
   },
   "outputs": [],
   "source": [
    "from sklearn.manifold import TSNE\n",
    "\n",
    "# select random index\n",
    "selectNum = 5000\n",
    "randIndex = np.random.choice(W.shape[0], selectNum, replace=False)\n",
    "randIndex.sort()\n",
    "\n",
    "tsne = TSNE(n_components=2, init='pca', verbose=1)\n",
    "W2d = tsne.fit_transform(W[randIndex, :])\n",
    "topicIndex = [v.argmax() for v in W[randIndex, :]]"
   ]
  },
  {
   "cell_type": "code",
   "execution_count": null,
   "metadata": {
    "ExecuteTime": {
     "end_time": "2017-09-15T06:33:57.966052Z",
     "start_time": "2017-09-15T06:33:57.637143Z"
    }
   },
   "outputs": [],
   "source": [
    "from bokeh.models import HoverTool\n",
    "from bokeh.palettes import Category20\n",
    "from bokeh.io import show, output_notebook\n",
    "from bokeh.plotting import figure, ColumnDataSource\n",
    "output_notebook()\n",
    "\n",
    "# 사용할 툴들\n",
    "tools_to_show = 'hover,box_zoom,pan,save,resize,reset,wheel_zoom'\n",
    "p = figure(plot_width=800, plot_height=500, tools=tools_to_show)\n",
    "\n",
    "source = ColumnDataSource(data={\n",
    "    'x': W2d[:, 0],\n",
    "    'y': W2d[:, 1],\n",
    "    'document': [twitTexts[randInd] for randInd in randIndex],  # 해당 트윗\n",
    "    'topic': [str(i) for i in topicIndex],  # 토픽 번호\n",
    "    'color': [Category20[K][i] for i in topicIndex]\n",
    "})\n",
    "p.circle(\n",
    "    'x', 'y',\n",
    "    source=source,\n",
    "    legend='topic',\n",
    "    color='color',\n",
    "    fill_alpha=0.7,\n",
    "    line_alpha=0.7)\n",
    "\n",
    "# 몇가지 interaction\n",
    "p.legend.location = \"top_left\"\n",
    "hover = p.select(dict(type=HoverTool))\n",
    "hover.tooltips = [(\"Topic\", \"@topic\"), (\"Tweet\", \"@document\")]\n",
    "hover.mode = 'mouse'\n",
    "\n",
    "show(p)"
   ]
  },
  {
   "cell_type": "code",
   "execution_count": null,
   "metadata": {
    "collapsed": true
   },
   "outputs": [],
   "source": []
  }
 ],
 "metadata": {
  "kernelspec": {
   "display_name": "Python 3",
   "language": "python",
   "name": "python3"
  },
  "language_info": {
   "codemirror_mode": {
    "name": "ipython",
    "version": 3
   },
   "file_extension": ".py",
   "mimetype": "text/x-python",
   "name": "python",
   "nbconvert_exporter": "python",
   "pygments_lexer": "ipython3",
   "version": "3.6.2"
  },
  "varInspector": {
   "cols": {
    "lenName": 16,
    "lenType": 16,
    "lenVar": 40
   },
   "kernels_config": {
    "python": {
     "delete_cmd_postfix": "",
     "delete_cmd_prefix": "del ",
     "library": "var_list.py",
     "varRefreshCmd": "print(var_dic_list())"
    },
    "r": {
     "delete_cmd_postfix": ") ",
     "delete_cmd_prefix": "rm(",
     "library": "var_list.r",
     "varRefreshCmd": "cat(var_dic_list()) "
    }
   },
   "types_to_exclude": [
    "module",
    "function",
    "builtin_function_or_method",
    "instance",
    "_Feature"
   ],
   "window_display": false
  }
 },
 "nbformat": 4,
 "nbformat_minor": 2
}
