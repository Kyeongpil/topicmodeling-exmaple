{
 "cells": [
  {
   "cell_type": "code",
   "execution_count": 1,
   "metadata": {
    "ExecuteTime": {
     "end_time": "2017-09-14T06:27:44.791097Z",
     "start_time": "2017-09-14T06:27:43.670375Z"
    },
    "collapsed": true
   },
   "outputs": [],
   "source": [
    "from sklearn.decomposition import NMF\n",
    "from sklearn.feature_extraction.text import TfidfTransformer\n",
    "from sklearn.preprocessing import normalize\n",
    "from scipy.sparse import dok_matrix\n",
    "from stop_words import get_stop_words\n",
    "import numpy as np\n",
    "import json"
   ]
  },
  {
   "cell_type": "code",
   "execution_count": 2,
   "metadata": {
    "ExecuteTime": {
     "end_time": "2017-09-14T06:27:44.927396Z",
     "start_time": "2017-09-14T06:27:44.793308Z"
    },
    "collapsed": true
   },
   "outputs": [],
   "source": [
    "with open(\"twit_new.json\", \"r\") as f:\n",
    "    data = json.load(f)"
   ]
  },
  {
   "cell_type": "code",
   "execution_count": 3,
   "metadata": {
    "ExecuteTime": {
     "end_time": "2017-09-14T06:27:45.196528Z",
     "start_time": "2017-09-14T06:27:44.930045Z"
    }
   },
   "outputs": [],
   "source": [
    "twitTexts = set()\n",
    "\n",
    "voca = set()\n",
    "for twit in data:\n",
    "    body = twit['body']\n",
    "    # 단어가 3개 이상인 트윗만 취급\n",
    "    body = body.split()\n",
    "    if len(body) > 3:\n",
    "        voca.update(body)\n",
    "        body = \" \".join(body)\n",
    "        twitTexts.add(body)\n",
    "\n",
    "del data\n",
    "twitTexts = list(twitTexts)"
   ]
  },
  {
   "cell_type": "code",
   "execution_count": 4,
   "metadata": {
    "ExecuteTime": {
     "end_time": "2017-09-14T06:27:45.237127Z",
     "start_time": "2017-09-14T06:27:45.200093Z"
    },
    "collapsed": true
   },
   "outputs": [],
   "source": [
    "# stopwords 제거\n",
    "stopwords = set(get_stop_words('en'))\n",
    "stopwords.update(['via', 'will', 'just'])\n",
    "voca = {v for v in voca if len(v) > 2}  # 단어길이가 3 이상인 경우만 취급\n",
    "voca = list(voca - stopwords)\n",
    "# 단어 인덱싱\n",
    "voca_id = {w: i for i, w in enumerate(voca)}"
   ]
  },
  {
   "cell_type": "code",
   "execution_count": 5,
   "metadata": {
    "ExecuteTime": {
     "end_time": "2017-09-14T06:27:45.251959Z",
     "start_time": "2017-09-14T06:27:45.241311Z"
    }
   },
   "outputs": [
    {
     "name": "stdout",
     "output_type": "stream",
     "text": [
      "(20185, 17253)\n"
     ]
    }
   ],
   "source": [
    "# term-document matrix를 sparse matrix로 생성\n",
    "tdm = dok_matrix((len(twitTexts), len(voca)), dtype=np.float32)\n",
    "print(tdm.shape)"
   ]
  },
  {
   "cell_type": "code",
   "execution_count": 6,
   "metadata": {
    "ExecuteTime": {
     "end_time": "2017-09-14T06:27:50.804371Z",
     "start_time": "2017-09-14T06:27:45.257616Z"
    },
    "collapsed": true
   },
   "outputs": [],
   "source": [
    "# term-document matrix\n",
    "for i, twit in enumerate(twitTexts):\n",
    "    for word in twit.split():\n",
    "        try:\n",
    "            tdm[i, voca_id[word]] += 1\n",
    "        except:\n",
    "            # stopwords\n",
    "            continue"
   ]
  },
  {
   "cell_type": "code",
   "execution_count": 7,
   "metadata": {
    "ExecuteTime": {
     "end_time": "2017-09-14T06:27:50.884843Z",
     "start_time": "2017-09-14T06:27:50.807115Z"
    },
    "collapsed": true
   },
   "outputs": [],
   "source": [
    "# 각 document별로 l2-normalize\n",
    "tdm_ = normalize(tdm)"
   ]
  },
  {
   "cell_type": "code",
   "execution_count": 8,
   "metadata": {
    "ExecuteTime": {
     "end_time": "2017-09-14T06:27:52.912485Z",
     "start_time": "2017-09-14T06:27:50.886857Z"
    },
    "collapsed": true
   },
   "outputs": [],
   "source": [
    "# NMF\n",
    "K = 10\n",
    "nmf = NMF(n_components=K, init='nndsvd')\n",
    "W = nmf.fit_transform(tdm_)\n",
    "H = nmf.components_"
   ]
  },
  {
   "cell_type": "code",
   "execution_count": 9,
   "metadata": {
    "ExecuteTime": {
     "end_time": "2017-09-14T06:27:52.967963Z",
     "start_time": "2017-09-14T06:27:52.914454Z"
    }
   },
   "outputs": [
    {
     "name": "stdout",
     "output_type": "stream",
     "text": [
      "0th topic\n",
      "ransomware new know threat now bitcoin hit data pay get hackers need healthcare files read nhscyberattack virus infected ransom prevent \n",
      "\n",
      "1th topic\n",
      "wannacry windows now know patch need microsoft like bitcoin don ransom wcry new nsa kill wannacrypt switch analysis virus infected \n",
      "\n",
      "2th topic\n",
      "cybersecurity infosec hackers defstar5 databreach cybercrime cyberattacks iot 2017 makeyourownlane business infographic bigdata machinelearning hacking fintech experts top steps ciso \n",
      "\n",
      "3th topic\n",
      "attack cyber global massive nhs countries hit hospitals wake hits call nsa recent next news microsoft behind korea says biggest \n",
      "\n",
      "4th topic\n",
      "security cyber infosec experts iot hacking microsoft threats data technology now tech windows internet news updates patch lessons cybercrime privacy \n",
      "\n",
      "5th topic\n",
      "latest thanks daily news paper blog hacker wannacry tech diario times updates tcdisrupt read check business ciberataque cloud infosec journal \n",
      "\n",
      "6th topic\n",
      "attacks cyber wannacrypt healthcare like recent targeted world guidance report prevent 2016 lazarus says rise future phishing used businesses microsoft \n",
      "\n",
      "7th topic\n",
      "malware infosec wannacrypt hacking new steps nsa machinelearning bigdata iot data cybercrime eternalblue exploit fintech using cyberattacks phishing android top \n",
      "\n",
      "8th topic\n",
      "protect can business help learn data don know tips steps organization webinar ways need windows find take blog patch like \n",
      "\n",
      "9th topic\n",
      "cyberattack wannacrypt global nhs hit countries microsoft windows nsa massive computers hits nhscyberattack hacking hospitals worldwide 000 experts india infographic \n",
      "\n"
     ]
    }
   ],
   "source": [
    "# 각 토픽별 키워드 출력\n",
    "for k in range(K):\n",
    "    print(f\"{k}th topic\")\n",
    "    for index in H[k].argsort()[::-1][:20]:\n",
    "        print(voca[index], end=\" \")\n",
    "    print()\n",
    "    print()"
   ]
  },
  {
   "cell_type": "code",
   "execution_count": 10,
   "metadata": {
    "ExecuteTime": {
     "end_time": "2017-09-14T06:27:53.209529Z",
     "start_time": "2017-09-14T06:27:52.984405Z"
    },
    "collapsed": true
   },
   "outputs": [],
   "source": [
    "# tfidf를 통한 nmf\n",
    "tfidf = TfidfTransformer()\n",
    "tdm_ = tfidf.fit_transform(tdm)"
   ]
  },
  {
   "cell_type": "code",
   "execution_count": 11,
   "metadata": {
    "ExecuteTime": {
     "end_time": "2017-09-14T06:27:54.976110Z",
     "start_time": "2017-09-14T06:27:53.211958Z"
    },
    "collapsed": true
   },
   "outputs": [],
   "source": [
    "K = 10\n",
    "nmf = NMF(n_components=K, init='nndsvd')\n",
    "W = nmf.fit_transform(tdm_)\n",
    "H = nmf.components_"
   ]
  },
  {
   "cell_type": "code",
   "execution_count": 12,
   "metadata": {
    "ExecuteTime": {
     "end_time": "2017-09-14T06:27:55.089965Z",
     "start_time": "2017-09-14T06:27:54.981842Z"
    },
    "collapsed": true
   },
   "outputs": [
    {
     "name": "stdout",
     "output_type": "stream",
     "text": [
      "0th topic\n",
      "ransomware attacks new healthcare threat data pay prevent now get bitcoin ransom can files free hit read businesses 2016 hackers \n",
      "\n",
      "1th topic\n",
      "cybersecurity infosec malware defstar5 hackers databreach cybercrime ransomware cyberattacks iot steps bigdata machinelearning hacking makeyourownlane fintech infographic 2017 top ciso \n",
      "\n",
      "2th topic\n",
      "wannacry kill switch like don wcry now ransom analysis bitcoin north worm korea ransomeware virus make infected spread btc total \n",
      "\n",
      "3th topic\n",
      "protect can business ransomware learn help tips attacks steps organization ways data computer simple best webinar don check advice take \n",
      "\n",
      "4th topic\n",
      "latest thanks daily news paper wannacry hacker blog tech tcdisrupt ransomware times diario updates ciberataque read roundup stories check update \n",
      "\n",
      "5th topic\n",
      "know need everything ransomware things wannacry wcry want wannacrypt don recent faq immediately cybersecurity crisis video anyone global five defend \n",
      "\n",
      "6th topic\n",
      "attack cyber global massive ransomware countries hits wake nhs hospitals hit call warns news nsa recent across korea biggest world \n",
      "\n",
      "7th topic\n",
      "security cyber experts hacking infosec iot technology tech threats data internet malware lessons bulletin cybercrime privacy updates warn risk rise \n",
      "\n",
      "8th topic\n",
      "windows wannacrypt microsoft patch update nsa patches ms17 smb 010 2003 users systems exploit releases eternalblue using server issues now \n",
      "\n",
      "9th topic\n",
      "cyberattack hit nhs countries global ransomware hits computers massive worldwide 000 nhscyberattack hospitals affected nsa infographic 150 experts hacking ransomwareattack \n",
      "\n"
     ]
    }
   ],
   "source": [
    "for k in range(K):\n",
    "    print(f\"{k}th topic\")\n",
    "    for index in H[k].argsort()[::-1][:20]:\n",
    "        print(voca[index], end=\" \")\n",
    "    print()\n",
    "    print()"
   ]
  },
  {
   "cell_type": "code",
   "execution_count": 14,
   "metadata": {
    "ExecuteTime": {
     "end_time": "2017-09-14T06:28:18.799069Z",
     "start_time": "2017-09-14T06:28:18.776510Z"
    },
    "collapsed": true
   },
   "outputs": [
    {
     "name": "stdout",
     "output_type": "stream",
     "text": [
      "0th topic\n",
      "what is ransomware via\n",
      "the growing threat of ransomware ransomware ransomware\n",
      "how to deal with the rising threat of ransomware ransomware ransomware ransomware\n",
      "us hospitals face growing ransomware threat ransomware ransomware ransomware\n",
      "5 things to know about ransomware ransomware ransomware\n",
      "\n",
      "1th topic\n",
      "here is how not to wannacry cybersecurity\n",
      "10 steps to cybersecurity cyberattack ransomware malware infosec ai\n",
      "what are 10 steps of cybersecurity by cyberattack ransomware malware infosec ai ml\n",
      "infosec security cybersecurity on the ransomware attack\n",
      "how to recover from a ransomware attack cybersecurity infosec malware\n",
      "\n",
      "2th topic\n",
      "wannacry wannacry 1 wannacry wannacry 1 wannacry wannacry 1 wannacry wannacry 1\n",
      "here we go wannacry\n",
      "wannacry when him go\n",
      "what is the ransomware wannacry worm wannacry wannacry\n",
      "make s you wannacry wannacry via\n",
      "\n",
      "3th topic\n",
      "how to protect yourself against ransomware\n",
      "how to protect yourself from ransomware via\n",
      "how to protect yourself from ransomware\n",
      "how to protect your pc from wannacry ransomware\n",
      "how to protect yourself from wannacry ransomware\n",
      "\n",
      "4th topic\n",
      "the latest s o t p daily thanks to wannacry ransomware\n",
      "the latest the daily thanks to wannacry cybersecurity\n",
      "the latest the n daily thanks to wannacry security\n",
      "the latest infosec daily thanks to ransomware wannacry\n",
      "the latest the al daily thanks to wannacry tech\n",
      "\n",
      "5th topic\n",
      "wannacry what you need to know\n",
      "what you need to know about wannacry\n",
      "what you need to know about the wannacry ransomware\n",
      "all you need to know about the wannacry ransomware\n",
      "ransomware what you need to know via wannacry\n",
      "\n",
      "6th topic\n",
      "what to do if you have a ransomware attack gt gt\n",
      "wannacry cyber attack to whom\n",
      "ransomware attack 78 countries\n",
      "massive ransomware attack hits 74 countries cyber\n",
      "ransomware attack what can you do\n",
      "\n",
      "7th topic\n",
      "security leftovers security ransomware wannacry\n",
      "what is no more ransom ransomware security\n",
      "the latest computer security daily thanks to wannacry security\n",
      "on the ransomware attack cybersecurity security\n",
      "the latest security awareness daily thanks to ransomware security\n",
      "\n",
      "8th topic\n",
      "wannacrypt ransomware microsoft issues emergency patch for windows xp wannacry wannacrypt\n",
      "microsoft releases windows xp patch for wannacrypt ransomware security cybersecurity\n",
      "reminder wannacry wannacrypt ransomware patch for microsoft windows\n",
      "wannacry patch from microsoft for all windows versions even windows xp microsoft\n",
      "how wannacrypt attacks windows via\n",
      "\n",
      "9th topic\n",
      "worldwide cyberattack here s how to protect yourself wannacry ransomware cyberattack wannacry\n",
      "what should you do if you re hit by wannacry cyberattack gt\n",
      "why the cyberattack wannacry is something to worry about wannacry cyberattack\n",
      "wannacry ransomware all the updates on the cyberattack\n",
      "this cyberattack makes me wannacry\n",
      "\n"
     ]
    }
   ],
   "source": [
    "W_ = W.T\n",
    "for k in range(K):\n",
    "    print(f\"{k}th topic\")\n",
    "    for index in W_[k].argsort()[::-1][:5]:\n",
    "        print(twitTexts[index])\n",
    "    print()"
   ]
  },
  {
   "cell_type": "code",
   "execution_count": null,
   "metadata": {
    "collapsed": true
   },
   "outputs": [],
   "source": []
  }
 ],
 "metadata": {
  "kernelspec": {
   "display_name": "Python 3",
   "language": "python",
   "name": "python3"
  },
  "language_info": {
   "codemirror_mode": {
    "name": "ipython",
    "version": 3
   },
   "file_extension": ".py",
   "mimetype": "text/x-python",
   "name": "python",
   "nbconvert_exporter": "python",
   "pygments_lexer": "ipython3",
   "version": "3.6.2"
  },
  "varInspector": {
   "cols": {
    "lenName": 16,
    "lenType": 16,
    "lenVar": 40
   },
   "kernels_config": {
    "python": {
     "delete_cmd_postfix": "",
     "delete_cmd_prefix": "del ",
     "library": "var_list.py",
     "varRefreshCmd": "print(var_dic_list())"
    },
    "r": {
     "delete_cmd_postfix": ") ",
     "delete_cmd_prefix": "rm(",
     "library": "var_list.r",
     "varRefreshCmd": "cat(var_dic_list()) "
    }
   },
   "types_to_exclude": [
    "module",
    "function",
    "builtin_function_or_method",
    "instance",
    "_Feature"
   ],
   "window_display": false
  }
 },
 "nbformat": 4,
 "nbformat_minor": 2
}
