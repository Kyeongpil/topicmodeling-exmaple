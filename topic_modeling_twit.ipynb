{
 "cells": [
  {
   "cell_type": "code",
   "execution_count": null,
   "metadata": {
    "ExecuteTime": {
     "end_time": "2017-09-14T07:42:46.970489Z",
     "start_time": "2017-09-14T07:42:46.963530Z"
    },
    "collapsed": true
   },
   "outputs": [],
   "source": [
    "from sklearn.decomposition import NMF\n",
    "from sklearn.feature_extraction.text import TfidfTransformer\n",
    "from sklearn.preprocessing import normalize\n",
    "from scipy.sparse import dok_matrix\n",
    "from stop_words import get_stop_words\n",
    "import numpy as np\n",
    "import json"
   ]
  },
  {
   "cell_type": "code",
   "execution_count": null,
   "metadata": {
    "ExecuteTime": {
     "end_time": "2017-09-14T07:42:47.708485Z",
     "start_time": "2017-09-14T07:42:47.576520Z"
    }
   },
   "outputs": [],
   "source": [
    "with open(\"twit_new.json\", \"r\") as f:\n",
    "    data = json.load(f)"
   ]
  },
  {
   "cell_type": "code",
   "execution_count": null,
   "metadata": {
    "ExecuteTime": {
     "end_time": "2017-09-14T07:42:48.822123Z",
     "start_time": "2017-09-14T07:42:48.599679Z"
    },
    "collapsed": true
   },
   "outputs": [],
   "source": [
    "twitTexts = set()\n",
    "voca = set()\n",
    "for twit in data:\n",
    "    body = twit['body']\n",
    "    # 단어가 3개 이상인 트윗만 취급\n",
    "    body = body.split()\n",
    "    if len(body) > 3:\n",
    "        voca.update(body)\n",
    "        body = \" \".join(body)\n",
    "        twitTexts.add(body)\n",
    "\n",
    "del data\n",
    "twitTexts = list(twitTexts)"
   ]
  },
  {
   "cell_type": "code",
   "execution_count": null,
   "metadata": {
    "ExecuteTime": {
     "end_time": "2017-09-14T07:42:49.620328Z",
     "start_time": "2017-09-14T07:42:49.599206Z"
    },
    "collapsed": true
   },
   "outputs": [],
   "source": [
    "# stopwords 제거\n",
    "stopwords = set(get_stop_words('en'))\n",
    "stopwords.update(['via', 'will', 'just'])\n",
    "voca = {v for v in voca if len(v) > 2}  # 단어길이가 3 이상인 경우만 취급\n",
    "voca = list(voca - stopwords)\n",
    "voca_id = {w: i for i, w in enumerate(voca)}  # 단어 인덱싱"
   ]
  },
  {
   "cell_type": "code",
   "execution_count": null,
   "metadata": {
    "ExecuteTime": {
     "end_time": "2017-09-14T07:42:50.493859Z",
     "start_time": "2017-09-14T07:42:50.487507Z"
    }
   },
   "outputs": [],
   "source": [
    "# term-document matrix를 sparse matrix로 생성\n",
    "tdm = dok_matrix((len(twitTexts), len(voca)), dtype=np.float32)\n",
    "print(tdm.shape)"
   ]
  },
  {
   "cell_type": "code",
   "execution_count": null,
   "metadata": {
    "ExecuteTime": {
     "end_time": "2017-09-14T07:42:56.577170Z",
     "start_time": "2017-09-14T07:42:51.464128Z"
    },
    "collapsed": true
   },
   "outputs": [],
   "source": [
    "# term-document matrix\n",
    "for i, twit in enumerate(twitTexts):\n",
    "    for word in twit.split():\n",
    "        try:\n",
    "            tdm[i, voca_id[word]] += 1\n",
    "        except:\n",
    "            # stopwords\n",
    "            continue"
   ]
  },
  {
   "cell_type": "code",
   "execution_count": null,
   "metadata": {
    "ExecuteTime": {
     "end_time": "2017-09-14T07:42:57.619156Z",
     "start_time": "2017-09-14T07:42:57.527390Z"
    },
    "collapsed": true
   },
   "outputs": [],
   "source": [
    "# 각 document별로 l2-normalize\n",
    "tdm_ = normalize(tdm)"
   ]
  },
  {
   "cell_type": "code",
   "execution_count": null,
   "metadata": {
    "ExecuteTime": {
     "end_time": "2017-09-14T07:42:59.846579Z",
     "start_time": "2017-09-14T07:42:58.143292Z"
    },
    "collapsed": true
   },
   "outputs": [],
   "source": [
    "# NMF\n",
    "K = 10\n",
    "nmf = NMF(n_components=K, init='nndsvd')\n",
    "W = nmf.fit_transform(tdm_)\n",
    "H = nmf.components_"
   ]
  },
  {
   "cell_type": "code",
   "execution_count": null,
   "metadata": {
    "ExecuteTime": {
     "end_time": "2017-09-14T07:43:07.739436Z",
     "start_time": "2017-09-14T07:43:07.698244Z"
    }
   },
   "outputs": [],
   "source": [
    "# 각 토픽별 키워드 출력\n",
    "for k in range(K):\n",
    "    print(f\"{k}th topic\")\n",
    "    for index in H[k].argsort()[::-1][:20]:\n",
    "        print(voca[index], end=\" \")\n",
    "    print(\"\\n\")"
   ]
  },
  {
   "cell_type": "code",
   "execution_count": null,
   "metadata": {
    "ExecuteTime": {
     "end_time": "2017-09-14T07:43:10.340359Z",
     "start_time": "2017-09-14T07:43:10.193999Z"
    },
    "collapsed": true
   },
   "outputs": [],
   "source": [
    "# tfidf를 통한 nmf\n",
    "tfidf = TfidfTransformer()\n",
    "tdm_ = tfidf.fit_transform(tdm)"
   ]
  },
  {
   "cell_type": "code",
   "execution_count": null,
   "metadata": {
    "ExecuteTime": {
     "end_time": "2017-09-14T07:43:12.249276Z",
     "start_time": "2017-09-14T07:43:11.071674Z"
    },
    "collapsed": true
   },
   "outputs": [],
   "source": [
    "K = 10\n",
    "nmf = NMF(n_components=K, init='nndsvd')\n",
    "W = nmf.fit_transform(tdm_)\n",
    "H = nmf.components_"
   ]
  },
  {
   "cell_type": "code",
   "execution_count": null,
   "metadata": {
    "ExecuteTime": {
     "end_time": "2017-09-14T07:43:14.816886Z",
     "start_time": "2017-09-14T07:43:14.778239Z"
    }
   },
   "outputs": [],
   "source": [
    "for k in range(K):\n",
    "    print(f\"{k}th topic\")\n",
    "    for index in H[k].argsort()[::-1][:20]:\n",
    "        print(voca[index], end=\" \")\n",
    "    print(\"\\n\")"
   ]
  },
  {
   "cell_type": "code",
   "execution_count": null,
   "metadata": {
    "ExecuteTime": {
     "end_time": "2017-09-14T07:43:16.843826Z",
     "start_time": "2017-09-14T07:43:16.818144Z"
    }
   },
   "outputs": [],
   "source": [
    "W_ = W.T\n",
    "for k in range(K):\n",
    "    print(f\"{k}th topic\")\n",
    "    for index in W_[k].argsort()[::-1][:5]:\n",
    "        print(twitTexts[index])\n",
    "    print()"
   ]
  }
 ],
 "metadata": {
  "kernelspec": {
   "display_name": "Python 3",
   "language": "python",
   "name": "python3"
  },
  "language_info": {
   "codemirror_mode": {
    "name": "ipython",
    "version": 3
   },
   "file_extension": ".py",
   "mimetype": "text/x-python",
   "name": "python",
   "nbconvert_exporter": "python",
   "pygments_lexer": "ipython3",
   "version": "3.6.2"
  },
  "varInspector": {
   "cols": {
    "lenName": 16,
    "lenType": 16,
    "lenVar": 40
   },
   "kernels_config": {
    "python": {
     "delete_cmd_postfix": "",
     "delete_cmd_prefix": "del ",
     "library": "var_list.py",
     "varRefreshCmd": "print(var_dic_list())"
    },
    "r": {
     "delete_cmd_postfix": ") ",
     "delete_cmd_prefix": "rm(",
     "library": "var_list.r",
     "varRefreshCmd": "cat(var_dic_list()) "
    }
   },
   "types_to_exclude": [
    "module",
    "function",
    "builtin_function_or_method",
    "instance",
    "_Feature"
   ],
   "window_display": false
  }
 },
 "nbformat": 4,
 "nbformat_minor": 2
}
