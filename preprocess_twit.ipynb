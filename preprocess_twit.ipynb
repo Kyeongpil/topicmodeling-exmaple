{
 "cells": [
  {
   "cell_type": "code",
   "execution_count": 6,
   "metadata": {
    "ExecuteTime": {
     "end_time": "2017-09-14T05:28:59.070731Z",
     "start_time": "2017-09-14T05:28:59.066422Z"
    },
    "collapsed": true
   },
   "outputs": [],
   "source": [
    "from pprint import pprint\n",
    "import json\n",
    "import re"
   ]
  },
  {
   "cell_type": "code",
   "execution_count": 7,
   "metadata": {
    "ExecuteTime": {
     "end_time": "2017-09-14T05:29:24.173541Z",
     "start_time": "2017-09-14T05:29:11.889069Z"
    },
    "collapsed": true
   },
   "outputs": [],
   "source": [
    "with open(\"twitData.json\", 'r') as f:\n",
    "    data = json.load(f)"
   ]
  },
  {
   "cell_type": "code",
   "execution_count": 3,
   "metadata": {
    "ExecuteTime": {
     "end_time": "2017-09-14T05:05:18.983523Z",
     "start_time": "2017-09-14T05:05:18.926690Z"
    },
    "collapsed": true
   },
   "outputs": [
    {
     "name": "stdout",
     "output_type": "stream",
     "text": [
      "60057\n",
      "{'actor': {'displayName': 'AudiYo!',\n",
      "           'favoritesCount': 488,\n",
      "           'followersCount': 18,\n",
      "           'friendsCount': 575,\n",
      "           'id': 'id:twitter.com:2435803028',\n",
      "           'image': 'https://pbs.twimg.com/profile_images/707052671660904448/UPWjRKYd_normal.jpg',\n",
      "           'languages': ['en'],\n",
      "           'link': 'http://www.twitter.com/AudiYooSund',\n",
      "           'links': [{'href': None, 'rel': 'me'}],\n",
      "           'listedCount': 9,\n",
      "           'location': {'displayName': 'maryland', 'objectType': 'place'},\n",
      "           'objectType': 'person',\n",
      "           'postedTime': '2014-04-09T17:27:44.000Z',\n",
      "           'preferredUsername': 'AudiYooSund',\n",
      "           'statusesCount': 561,\n",
      "           'summary': 'EDM DJ/Producer of  , Electro & Tech House.',\n",
      "           'twitterTimeZone': 'Pacific Time (US & Canada)',\n",
      "           'utcOffset': '-28800',\n",
      "           'verified': False},\n",
      " 'body': 'RT @kennethholley: Trend Micro report: Ransomware booming '\n",
      "         '#cybersecurity #ransomware https://t.co/FezmiG5ZKC',\n",
      " 'favoritesCount': 0,\n",
      " 'generator': {'displayName': 'Twitter Web Client',\n",
      "               'link': 'http://twitter.com'},\n",
      " 'gnip': {'matching_rules': [{'id': 3244119379847715000, 'tag': 'filter1'}],\n",
      "          'urls': [{'expanded_status': 200,\n",
      "                    'expanded_url': 'http://www.networkworld.com/article/3175030/security/trend-micro-report-ransomware-booming.html#tk.twt_nww',\n",
      "                    'expanded_url_description': 'The profitability of '\n",
      "                                                'ransomware made it the top '\n",
      "                                                'cyber threat last year in two '\n",
      "                                                'categories: the number of '\n",
      "                                                'attacks and the amount of '\n",
      "                                                'money generated for crooks, '\n",
      "                                                'according to a Trend Micro '\n",
      "                                                'lookback on data it collected '\n",
      "                                                'from its customers.',\n",
      "                    'expanded_url_title': 'Trend Micro report: Ransomware '\n",
      "                                          'booming',\n",
      "                    'url': 'https://t.co/FezmiG5ZKC'}]},\n",
      " 'id': 'tag:search.twitter.com,2005:836728245999448064',\n",
      " 'link': 'http://twitter.com/AudiYooSund/statuses/836728245999448064',\n",
      " 'object': {'actor': {'displayName': 'Kenneth Holley',\n",
      "                      'favoritesCount': 9817,\n",
      "                      'followersCount': 161262,\n",
      "                      'friendsCount': 12617,\n",
      "                      'id': 'id:twitter.com:18910068',\n",
      "                      'image': 'https://pbs.twimg.com/profile_images/520217072677036032/KnmmjEaY_normal.png',\n",
      "                      'languages': ['en'],\n",
      "                      'link': 'http://www.twitter.com/kennethholley',\n",
      "                      'links': [{'href': 'http://isicg.com', 'rel': 'me'}],\n",
      "                      'listedCount': 971,\n",
      "                      'location': {'displayName': 'Washington, DC  •  Austin',\n",
      "                                   'objectType': 'place'},\n",
      "                      'objectType': 'person',\n",
      "                      'postedTime': '2009-01-12T18:41:47.000Z',\n",
      "                      'preferredUsername': 'kennethholley',\n",
      "                      'statusesCount': 17290,\n",
      "                      'summary': \"It's about who you know and who you trust • \"\n",
      "                                 \"There's never any rest for the terminally \"\n",
      "                                 'ambitious • Founder & CEO @isicgllc • Former '\n",
      "                                 '@USNavy',\n",
      "                      'twitterTimeZone': 'Central Time (US & Canada)',\n",
      "                      'utcOffset': '-21600',\n",
      "                      'verified': False},\n",
      "            'body': 'Trend Micro report: Ransomware booming #cybersecurity '\n",
      "                    '#ransomware https://t.co/FezmiG5ZKC',\n",
      "            'favoritesCount': 7,\n",
      "            'generator': {'displayName': 'Hootsuite',\n",
      "                          'link': 'http://www.hootsuite.com'},\n",
      "            'id': 'tag:search.twitter.com,2005:836649737587675137',\n",
      "            'link': 'http://twitter.com/kennethholley/statuses/836649737587675137',\n",
      "            'object': {'id': 'object:search.twitter.com,2005:836649737587675137',\n",
      "                       'link': 'http://twitter.com/kennethholley/statuses/836649737587675137',\n",
      "                       'objectType': 'note',\n",
      "                       'postedTime': '2017-02-28T18:50:16.000Z',\n",
      "                       'summary': 'Trend Micro report: Ransomware booming '\n",
      "                                  '#cybersecurity #ransomware '\n",
      "                                  'https://t.co/FezmiG5ZKC'},\n",
      "            'objectType': 'activity',\n",
      "            'postedTime': '2017-02-28T18:50:16.000Z',\n",
      "            'provider': {'displayName': 'Twitter',\n",
      "                         'link': 'http://www.twitter.com',\n",
      "                         'objectType': 'service'},\n",
      "            'twitter_entities': {'hashtags': [{'indices': [39, 53],\n",
      "                                               'text': 'cybersecurity'},\n",
      "                                              {'indices': [54, 65],\n",
      "                                               'text': 'ransomware'}],\n",
      "                                 'symbols': [],\n",
      "                                 'urls': [{'display_url': 'ow.ly/k2rh309rNot',\n",
      "                                           'expanded_url': 'http://ow.ly/k2rh309rNot',\n",
      "                                           'indices': [66, 89],\n",
      "                                           'url': 'https://t.co/FezmiG5ZKC'}],\n",
      "                                 'user_mentions': []},\n",
      "            'twitter_filter_level': 'low',\n",
      "            'twitter_lang': 'en',\n",
      "            'verb': 'post'},\n",
      " 'objectType': 'activity',\n",
      " 'postedTime': '2017-03-01T00:02:14.000Z',\n",
      " 'provider': {'displayName': 'Twitter',\n",
      "              'link': 'http://www.twitter.com',\n",
      "              'objectType': 'service'},\n",
      " 'retweetCount': 9,\n",
      " 'twitter_entities': {'hashtags': [{'indices': [58, 72],\n",
      "                                    'text': 'cybersecurity'},\n",
      "                                   {'indices': [73, 84], 'text': 'ransomware'}],\n",
      "                      'symbols': [],\n",
      "                      'urls': [{'display_url': 'ow.ly/k2rh309rNot',\n",
      "                                'expanded_url': 'http://ow.ly/k2rh309rNot',\n",
      "                                'indices': [85, 108],\n",
      "                                'url': 'https://t.co/FezmiG5ZKC'}],\n",
      "                      'user_mentions': [{'id': 18910068,\n",
      "                                         'id_str': '18910068',\n",
      "                                         'indices': [3, 17],\n",
      "                                         'name': 'Kenneth Holley',\n",
      "                                         'screen_name': 'kennethholley'}]},\n",
      " 'twitter_filter_level': 'low',\n",
      " 'twitter_lang': 'en',\n",
      " 'verb': 'share'}\n"
     ]
    }
   ],
   "source": [
    "print(len(data))\n",
    "pprint(data[0])\n",
    "# 우리가 실제 사용할 것은 english를 사용하는 트윗의 userName, body, postedTime, retweetCount 등\n",
    "# 필요한 것만 떼어내서 데이터의 크기를 줄이자"
   ]
  },
  {
   "cell_type": "code",
   "execution_count": 8,
   "metadata": {
    "ExecuteTime": {
     "end_time": "2017-09-14T05:29:45.059852Z",
     "start_time": "2017-09-14T05:29:44.124879Z"
    },
    "collapsed": true
   },
   "outputs": [],
   "source": [
    "new_data = []\n",
    "for twit in data:\n",
    "    try:\n",
    "        if twit['twitter_lang'] == 'en':\n",
    "            # english를 사용하는 twitter만 사용\n",
    "            new_twit = {}\n",
    "            # username\n",
    "            new_twit['userName'] = twit['actor']['displayName']\n",
    "\n",
    "            # body(본문), 전처리하기\n",
    "            body = re.sub(r\"http\\S+\", \"\", twit['body'])  # url 제거\n",
    "            body = body.replace(\"RT\", \"\")  # RT 제거\n",
    "            body = body.replace(\"\\n\", \" \")  # 개행 제거\n",
    "            body = body.replace(\"&amp;\", \" \")  # & 제거\n",
    "            body = re.sub(\"\\d{4}-\\d{2}-\\d{2}\", \" \", body)  # 연도 제거\n",
    "            body = re.sub(\"@\\w+\", \"\", body)  # 호출 제거\n",
    "            body = re.sub(\"\\W\", \" \", body)  # 특수문자 제거\n",
    "            body = \" \".join(body.split())  # 중복 space는 하나의 space로 교체\n",
    "            body = body.lower()  # 대문자를 소문자로\n",
    "            if body[-1] == '-':  # 마지막 - 있는 경우 제거\n",
    "                body = body[:-1]\n",
    "            body = body.rstrip()  # 앞 뒤 여백 제거\n",
    "            new_twit['body'] = body\n",
    "\n",
    "            # 게시일\n",
    "            new_twit['postedTime'] = twit['postedTime']\n",
    "            # 리트윗 수\n",
    "            new_twit['retweetCount'] = twit['retweetCount']\n",
    "\n",
    "            new_data.append(new_twit)\n",
    "    except:\n",
    "        # 잘못된 형식의 트윗\n",
    "        continue\n",
    "\n",
    "with open(\"twit_new.json\", 'w') as f:\n",
    "    json.dump(new_data, f)"
   ]
  },
  {
   "cell_type": "code",
   "execution_count": 9,
   "metadata": {
    "ExecuteTime": {
     "end_time": "2017-09-14T05:29:57.529617Z",
     "start_time": "2017-09-14T05:29:57.522417Z"
    }
   },
   "outputs": [
    {
     "data": {
      "text/plain": [
       "39321"
      ]
     },
     "execution_count": 9,
     "metadata": {},
     "output_type": "execute_result"
    }
   ],
   "source": [
    "print(len(new_data))"
   ]
  }
 ],
 "metadata": {
  "_draft": {
   "nbviewer_url": "https://gist.github.com/56fdfbe2a0b570c85f0291b379dfc653"
  },
  "gist": {
   "data": {
    "description": "preprocess_twit.ipynb",
    "public": false
   },
   "id": "56fdfbe2a0b570c85f0291b379dfc653"
  },
  "kernelspec": {
   "display_name": "Python 3",
   "language": "python",
   "name": "python3"
  },
  "language_info": {
   "codemirror_mode": {
    "name": "ipython",
    "version": 3
   },
   "file_extension": ".py",
   "mimetype": "text/x-python",
   "name": "python",
   "nbconvert_exporter": "python",
   "pygments_lexer": "ipython3",
   "version": "3.6.2"
  },
  "varInspector": {
   "cols": {
    "lenName": 16,
    "lenType": 16,
    "lenVar": 40
   },
   "kernels_config": {
    "python": {
     "delete_cmd_postfix": "",
     "delete_cmd_prefix": "del ",
     "library": "var_list.py",
     "varRefreshCmd": "print(var_dic_list())"
    },
    "r": {
     "delete_cmd_postfix": ") ",
     "delete_cmd_prefix": "rm(",
     "library": "var_list.r",
     "varRefreshCmd": "cat(var_dic_list()) "
    }
   },
   "types_to_exclude": [
    "module",
    "function",
    "builtin_function_or_method",
    "instance",
    "_Feature"
   ],
   "window_display": false
  }
 },
 "nbformat": 4,
 "nbformat_minor": 2
}
